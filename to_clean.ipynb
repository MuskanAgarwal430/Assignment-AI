{
  "nbformat": 4,
  "nbformat_minor": 0,
  "metadata": {
    "colab": {
      "provenance": [],
      "gpuType": "T4"
    },
    "kernelspec": {
      "name": "python3",
      "display_name": "Python 3"
    },
    "language_info": {
      "name": "python"
    },
    "accelerator": "GPU"
  },
  "cells": [
    {
      "cell_type": "code",
      "execution_count": 18,
      "metadata": {
        "colab": {
          "base_uri": "https://localhost:8080/"
        },
        "id": "XEseMWATmz_M",
        "outputId": "26a99524-0b0e-44b1-c338-f22540e967e8"
      },
      "outputs": [
        {
          "output_type": "stream",
          "name": "stdout",
          "text": [
            "✅ Timestamps standardized and saved.\n"
          ]
        }
      ],
      "source": [
        "import pandas as pd\n",
        "\n",
        "# Load your dataset\n",
        "df = pd.read_csv(\"file.csv\")\n",
        "\n",
        "# Convert 'Timestamp' column to datetime format (auto-detects format)\n",
        "df['Timestamp'] = pd.to_datetime(df['Timestamp'], errors='coerce')\n",
        "\n",
        "# Standardize to ISO 8601 format (YYYY-MM-DDTHH:MM:SS)\n",
        "df['Timestamp'] = df['Timestamp'].dt.strftime('%Y-%m-%dT%H:%M:%S')\n",
        "\n",
        "print(\"✅ Timestamps standardized and saved.\")"
      ]
    },
    {
      "cell_type": "code",
      "source": [
        "# Normalize product and category names: strip whitespace, lowercase, title case\n",
        "df['Product Name'] = df['Product Name'].str.strip().str.title()\n",
        "df['Product Category'] = df['Product Category'].str.strip().str.title()\n"
      ],
      "metadata": {
        "id": "_NnWmd3And8y"
      },
      "execution_count": 19,
      "outputs": []
    },
    {
      "cell_type": "code",
      "source": [
        "from difflib import get_close_matches\n",
        "\n",
        "# Get unique known categories after normalization\n",
        "known_categories = df['Product Category'].dropna().unique().tolist()\n",
        "\n",
        "# Function to correct typos using fuzzy matching\n",
        "def correct_category(cat, known_list):\n",
        "    if pd.isna(cat): return cat\n",
        "    match = get_close_matches(cat, known_list, n=1, cutoff=0.8)\n",
        "    return match[0] if match else cat\n",
        "\n",
        "# Apply the correction to each row\n",
        "df['Product Category'] = df['Product Category'].apply(lambda x: correct_category(x, known_categories))\n"
      ],
      "metadata": {
        "id": "ASSuD76sn5I8"
      },
      "execution_count": 20,
      "outputs": []
    },
    {
      "cell_type": "code",
      "source": [
        "# --- Fix Fulfillment Status ---\n",
        "df['Fulfillment Status'] = df['Fulfillment Status'].fillna(\"Unknown\")\n",
        "\n",
        "# --- Fix Order Value ---\n",
        "df['Order Value'] = df['Order Value'].fillna(0.0)\n",
        "\n",
        "# --- Fix Product Category ---\n",
        "df['Product Category'] = df['Product Category'].fillna(\"Uncategorized\")"
      ],
      "metadata": {
        "id": "6SZ5FcA5wLe_"
      },
      "execution_count": 21,
      "outputs": []
    },
    {
      "cell_type": "code",
      "source": [
        "# 1️⃣ Remove invalid (blank or < 3-word) reviews\n",
        "def is_valid_review(text):\n",
        "    if pd.isna(text): return False\n",
        "    return len(text.strip().split()) >= 2\n",
        "\n",
        "df = df[df['Review Content'].apply(is_valid_review)]\n",
        "\n",
        "# 2️⃣ Fill missing ratings using product-wise average\n",
        "df['Rating'] = df.groupby('Product Name')['Rating'].transform(\n",
        "    lambda x: x.fillna(x.mean())\n",
        ")\n",
        "\n",
        "# 3️⃣ If rating is still NaN (e.g., all ratings missing for that product), fill with global average\n",
        "global_avg = df['Rating'].mean()\n",
        "df['Rating'] = df['Rating'].fillna(global_avg)\n",
        "\n",
        "# 4️⃣ (Optional) Round ratings to 1 decimal place\n",
        "df['Rating'] = df['Rating'].round(1)\n",
        "\n",
        "# Save cleaned version\n",
        "df.to_csv(\"cleaned.csv\", index=False)\n",
        "\n",
        "print(\"✅ Missing ratings filled using product-wise averages. Invalid reviews removed.\")\n"
      ],
      "metadata": {
        "colab": {
          "base_uri": "https://localhost:8080/"
        },
        "id": "VmCj4ZU_ofuW",
        "outputId": "ca9a99a8-1f73-46e5-d8f5-069454d47afd"
      },
      "execution_count": 22,
      "outputs": [
        {
          "output_type": "stream",
          "name": "stdout",
          "text": [
            "✅ Missing ratings filled using product-wise averages. Invalid reviews removed.\n"
          ]
        },
        {
          "output_type": "stream",
          "name": "stderr",
          "text": [
            "/tmp/ipython-input-22-3915197265.py:9: SettingWithCopyWarning: \n",
            "A value is trying to be set on a copy of a slice from a DataFrame.\n",
            "Try using .loc[row_indexer,col_indexer] = value instead\n",
            "\n",
            "See the caveats in the documentation: https://pandas.pydata.org/pandas-docs/stable/user_guide/indexing.html#returning-a-view-versus-a-copy\n",
            "  df['Rating'] = df.groupby('Product Name')['Rating'].transform(\n",
            "/tmp/ipython-input-22-3915197265.py:15: SettingWithCopyWarning: \n",
            "A value is trying to be set on a copy of a slice from a DataFrame.\n",
            "Try using .loc[row_indexer,col_indexer] = value instead\n",
            "\n",
            "See the caveats in the documentation: https://pandas.pydata.org/pandas-docs/stable/user_guide/indexing.html#returning-a-view-versus-a-copy\n",
            "  df['Rating'] = df['Rating'].fillna(global_avg)\n",
            "/tmp/ipython-input-22-3915197265.py:18: SettingWithCopyWarning: \n",
            "A value is trying to be set on a copy of a slice from a DataFrame.\n",
            "Try using .loc[row_indexer,col_indexer] = value instead\n",
            "\n",
            "See the caveats in the documentation: https://pandas.pydata.org/pandas-docs/stable/user_guide/indexing.html#returning-a-view-versus-a-copy\n",
            "  df['Rating'] = df['Rating'].round(1)\n"
          ]
        }
      ]
    },
    {
      "cell_type": "code",
      "source": [],
      "metadata": {
        "id": "-slcvoUowLZO"
      },
      "execution_count": null,
      "outputs": []
    }
  ]
}